{
 "cells": [
  {
   "cell_type": "code",
   "id": "initial_id",
   "metadata": {
    "collapsed": true,
    "ExecuteTime": {
     "end_time": "2025-06-02T10:08:31.071981Z",
     "start_time": "2025-06-02T10:08:18.773811Z"
    }
   },
   "source": [
    "import pandas as pd\n",
    "from sklearn.metrics import accuracy_score, roc_auc_score\n",
    "from sklearn.model_selection import train_test_split\n",
    "from tabpfn import TabPFNClassifier\n",
    "\n",
    "def load_adni_data(csv_path: str):\n",
    "    \"\"\"\n",
    "    从 CSV 文件中加载 ADNI 数据：\n",
    "      - 将 \"Group\" 列当作标签 y（假设它已经是数值型或 0/1 二分类）。\n",
    "      - 将以下列当作特征 X：\n",
    "          ['AGE', 'PTGENDER', 'PTEDUCAT', 'PTETHCAT', 'PTRACCAT', \n",
    "           'PTMARRY', 'APOE4', 'CDRSB', 'ADAS11', 'ADAS13', 'ADASQ4', 'MMSE']\n",
    "    返回：\n",
    "      X: numpy 数组，形状为 (n_samples, 12)\n",
    "      y: numpy 数组，形状为 (n_samples,)\n",
    "    \"\"\"\n",
    "    df = pd.read_csv(csv_path)\n",
    "\n",
    "    # 确保我们需要的列都存在\n",
    "    feature_cols = [\n",
    "        \"AGE\", \"PTGENDER\", \"PTEDUCAT\", \"PTETHCAT\", \"PTRACCAT\",\n",
    "        \"PTMARRY\", \"APOE4\", \"CDRSB\", \"ADAS11\", \"ADAS13\", \"ADASQ4\", \"MMSE\"\n",
    "    ]\n",
    "    for col in feature_cols + [\"Group\"]:\n",
    "        if col not in df.columns:\n",
    "            raise ValueError(f\"在 CSV 中找不到列：'{col}'，请检查列名是否拼写正确。\")\n",
    "\n",
    "    # 如果某些列存在空值（NaN），可以选择在这里进行填充或删除：\n",
    "    # df = df.dropna(subset=feature_cols + [\"Group\"])        # 方法一：删除含 NaN 的行\n",
    "    # df[feature_cols] = df[feature_cols].fillna(df[feature_cols].median())  # 方法二：用中位数填充\n",
    "\n",
    "    # 提取标签\n",
    "    y = df[\"Group\"].values\n",
    "\n",
    "    # 提取特征\n",
    "    X = df[feature_cols].values\n",
    "\n",
    "    return X, y\n",
    "\n",
    "# ---------------------------\n",
    "# 主流程示例\n",
    "# ---------------------------\n",
    "\n",
    "# 1. 读取 ADNI 数据\n",
    "csv_file = \"ADNI_Tabel.csv\"   # 请根据实际路径修改\n",
    "X, y = load_adni_data(csv_file)\n",
    "\n",
    "# 2. 划分训练集和测试集\n",
    "X_train, X_test, y_train, y_test = train_test_split(\n",
    "    X, y, test_size=0.5, random_state=42\n",
    ")\n",
    "\n",
    "# 3. 初始化并训练 TabPFNClassifier\n",
    "clf = TabPFNClassifier()\n",
    "clf.fit(X_train, y_train)\n",
    "\n",
    "# 4. 预测概率并计算 ROC AUC\n",
    "prediction_probabilities = clf.predict_proba(X_test)\n",
    "print(\"ROC AUC:\", roc_auc_score(y_test, prediction_probabilities[:, 1]))\n",
    "\n",
    "# 5. 预测标签并计算 Accuracy\n",
    "predictions = clf.predict(X_test)\n",
    "print(\"Accuracy:\", accuracy_score(y_test, predictions))\n"
   ],
   "outputs": [
    {
     "name": "stderr",
     "output_type": "stream",
     "text": [
      "C:\\anaconda\\envs\\mmad\\lib\\site-packages\\tabpfn\\base.py:89: UserWarning: Downloading model to C:\\Users\\dongz\\AppData\\Roaming\\tabpfn\\tabpfn-v2-classifier.ckpt.\n",
      "  model, _, config_ = load_model_criterion_config(\n",
      "C:\\anaconda\\envs\\mmad\\lib\\site-packages\\tqdm\\auto.py:21: TqdmWarning: IProgress not found. Please update jupyter and ipywidgets. See https://ipywidgets.readthedocs.io/en/stable/user_install.html\n",
      "  from .autonotebook import tqdm as notebook_tqdm\n",
      "C:\\anaconda\\envs\\mmad\\lib\\site-packages\\tabpfn\\classifier.py:432: UserWarning: Running on CPU with more than 200 samples may be slow.\n",
      "Consider using a GPU or the tabpfn-client API: https://github.com/PriorLabs/tabpfn-client\n",
      "  check_cpu_warning(\n"
     ]
    },
    {
     "ename": "ValueError",
     "evalue": "multi_class must be in ('ovo', 'ovr')",
     "output_type": "error",
     "traceback": [
      "\u001B[1;31m---------------------------------------------------------------------------\u001B[0m",
      "\u001B[1;31mValueError\u001B[0m                                Traceback (most recent call last)",
      "Cell \u001B[1;32mIn[2], line 59\u001B[0m\n\u001B[0;32m     57\u001B[0m \u001B[38;5;66;03m# 4. 预测概率并计算 ROC AUC\u001B[39;00m\n\u001B[0;32m     58\u001B[0m prediction_probabilities \u001B[38;5;241m=\u001B[39m clf\u001B[38;5;241m.\u001B[39mpredict_proba(X_test)\n\u001B[1;32m---> 59\u001B[0m \u001B[38;5;28mprint\u001B[39m(\u001B[38;5;124m\"\u001B[39m\u001B[38;5;124mROC AUC:\u001B[39m\u001B[38;5;124m\"\u001B[39m, \u001B[43mroc_auc_score\u001B[49m\u001B[43m(\u001B[49m\u001B[43my_test\u001B[49m\u001B[43m,\u001B[49m\u001B[43m \u001B[49m\u001B[43mprediction_probabilities\u001B[49m\u001B[43m[\u001B[49m\u001B[43m:\u001B[49m\u001B[43m,\u001B[49m\u001B[43m \u001B[49m\u001B[38;5;241;43m1\u001B[39;49m\u001B[43m]\u001B[49m\u001B[43m)\u001B[49m)\n\u001B[0;32m     61\u001B[0m \u001B[38;5;66;03m# 5. 预测标签并计算 Accuracy\u001B[39;00m\n\u001B[0;32m     62\u001B[0m predictions \u001B[38;5;241m=\u001B[39m clf\u001B[38;5;241m.\u001B[39mpredict(X_test)\n",
      "File \u001B[1;32mC:\\anaconda\\envs\\mmad\\lib\\site-packages\\sklearn\\utils\\_param_validation.py:216\u001B[0m, in \u001B[0;36mvalidate_params.<locals>.decorator.<locals>.wrapper\u001B[1;34m(*args, **kwargs)\u001B[0m\n\u001B[0;32m    210\u001B[0m \u001B[38;5;28;01mtry\u001B[39;00m:\n\u001B[0;32m    211\u001B[0m     \u001B[38;5;28;01mwith\u001B[39;00m config_context(\n\u001B[0;32m    212\u001B[0m         skip_parameter_validation\u001B[38;5;241m=\u001B[39m(\n\u001B[0;32m    213\u001B[0m             prefer_skip_nested_validation \u001B[38;5;129;01mor\u001B[39;00m global_skip_validation\n\u001B[0;32m    214\u001B[0m         )\n\u001B[0;32m    215\u001B[0m     ):\n\u001B[1;32m--> 216\u001B[0m         \u001B[38;5;28;01mreturn\u001B[39;00m func(\u001B[38;5;241m*\u001B[39margs, \u001B[38;5;241m*\u001B[39m\u001B[38;5;241m*\u001B[39mkwargs)\n\u001B[0;32m    217\u001B[0m \u001B[38;5;28;01mexcept\u001B[39;00m InvalidParameterError \u001B[38;5;28;01mas\u001B[39;00m e:\n\u001B[0;32m    218\u001B[0m     \u001B[38;5;66;03m# When the function is just a wrapper around an estimator, we allow\u001B[39;00m\n\u001B[0;32m    219\u001B[0m     \u001B[38;5;66;03m# the function to delegate validation to the estimator, but we replace\u001B[39;00m\n\u001B[0;32m    220\u001B[0m     \u001B[38;5;66;03m# the name of the estimator by the name of the function in the error\u001B[39;00m\n\u001B[0;32m    221\u001B[0m     \u001B[38;5;66;03m# message to avoid confusion.\u001B[39;00m\n\u001B[0;32m    222\u001B[0m     msg \u001B[38;5;241m=\u001B[39m re\u001B[38;5;241m.\u001B[39msub(\n\u001B[0;32m    223\u001B[0m         \u001B[38;5;124mr\u001B[39m\u001B[38;5;124m\"\u001B[39m\u001B[38;5;124mparameter of \u001B[39m\u001B[38;5;124m\\\u001B[39m\u001B[38;5;124mw+ must be\u001B[39m\u001B[38;5;124m\"\u001B[39m,\n\u001B[0;32m    224\u001B[0m         \u001B[38;5;124mf\u001B[39m\u001B[38;5;124m\"\u001B[39m\u001B[38;5;124mparameter of \u001B[39m\u001B[38;5;132;01m{\u001B[39;00mfunc\u001B[38;5;241m.\u001B[39m\u001B[38;5;18m__qualname__\u001B[39m\u001B[38;5;132;01m}\u001B[39;00m\u001B[38;5;124m must be\u001B[39m\u001B[38;5;124m\"\u001B[39m,\n\u001B[0;32m    225\u001B[0m         \u001B[38;5;28mstr\u001B[39m(e),\n\u001B[0;32m    226\u001B[0m     )\n",
      "File \u001B[1;32mC:\\anaconda\\envs\\mmad\\lib\\site-packages\\sklearn\\metrics\\_ranking.py:634\u001B[0m, in \u001B[0;36mroc_auc_score\u001B[1;34m(y_true, y_score, average, sample_weight, max_fpr, multi_class, labels)\u001B[0m\n\u001B[0;32m    627\u001B[0m         \u001B[38;5;28;01mraise\u001B[39;00m \u001B[38;5;167;01mValueError\u001B[39;00m(\n\u001B[0;32m    628\u001B[0m             \u001B[38;5;124m\"\u001B[39m\u001B[38;5;124mPartial AUC computation not available in \u001B[39m\u001B[38;5;124m\"\u001B[39m\n\u001B[0;32m    629\u001B[0m             \u001B[38;5;124m\"\u001B[39m\u001B[38;5;124mmulticlass setting, \u001B[39m\u001B[38;5;124m'\u001B[39m\u001B[38;5;124mmax_fpr\u001B[39m\u001B[38;5;124m'\u001B[39m\u001B[38;5;124m must be\u001B[39m\u001B[38;5;124m\"\u001B[39m\n\u001B[0;32m    630\u001B[0m             \u001B[38;5;124m\"\u001B[39m\u001B[38;5;124m set to `None`, received `max_fpr=\u001B[39m\u001B[38;5;132;01m{0}\u001B[39;00m\u001B[38;5;124m` \u001B[39m\u001B[38;5;124m\"\u001B[39m\n\u001B[0;32m    631\u001B[0m             \u001B[38;5;124m\"\u001B[39m\u001B[38;5;124minstead\u001B[39m\u001B[38;5;124m\"\u001B[39m\u001B[38;5;241m.\u001B[39mformat(max_fpr)\n\u001B[0;32m    632\u001B[0m         )\n\u001B[0;32m    633\u001B[0m     \u001B[38;5;28;01mif\u001B[39;00m multi_class \u001B[38;5;241m==\u001B[39m \u001B[38;5;124m\"\u001B[39m\u001B[38;5;124mraise\u001B[39m\u001B[38;5;124m\"\u001B[39m:\n\u001B[1;32m--> 634\u001B[0m         \u001B[38;5;28;01mraise\u001B[39;00m \u001B[38;5;167;01mValueError\u001B[39;00m(\u001B[38;5;124m\"\u001B[39m\u001B[38;5;124mmulti_class must be in (\u001B[39m\u001B[38;5;124m'\u001B[39m\u001B[38;5;124movo\u001B[39m\u001B[38;5;124m'\u001B[39m\u001B[38;5;124m, \u001B[39m\u001B[38;5;124m'\u001B[39m\u001B[38;5;124movr\u001B[39m\u001B[38;5;124m'\u001B[39m\u001B[38;5;124m)\u001B[39m\u001B[38;5;124m\"\u001B[39m)\n\u001B[0;32m    635\u001B[0m     \u001B[38;5;28;01mreturn\u001B[39;00m _multiclass_roc_auc_score(\n\u001B[0;32m    636\u001B[0m         y_true, y_score, labels, multi_class, average, sample_weight\n\u001B[0;32m    637\u001B[0m     )\n\u001B[0;32m    638\u001B[0m \u001B[38;5;28;01melif\u001B[39;00m y_type \u001B[38;5;241m==\u001B[39m \u001B[38;5;124m\"\u001B[39m\u001B[38;5;124mbinary\u001B[39m\u001B[38;5;124m\"\u001B[39m:\n",
      "\u001B[1;31mValueError\u001B[0m: multi_class must be in ('ovo', 'ovr')"
     ]
    }
   ],
   "execution_count": 2
  },
  {
   "metadata": {},
   "cell_type": "code",
   "outputs": [],
   "execution_count": null,
   "source": "",
   "id": "fe30051eaa5d3353"
  }
 ],
 "metadata": {
  "kernelspec": {
   "display_name": "Python 3",
   "language": "python",
   "name": "python3"
  },
  "language_info": {
   "codemirror_mode": {
    "name": "ipython",
    "version": 2
   },
   "file_extension": ".py",
   "mimetype": "text/x-python",
   "name": "python",
   "nbconvert_exporter": "python",
   "pygments_lexer": "ipython2",
   "version": "2.7.6"
  }
 },
 "nbformat": 4,
 "nbformat_minor": 5
}
